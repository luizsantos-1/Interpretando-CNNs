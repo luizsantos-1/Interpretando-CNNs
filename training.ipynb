{
 "cells": [
  {
   "cell_type": "code",
   "execution_count": 1,
   "metadata": {},
   "outputs": [],
   "source": [
    "from tensorflow.keras import layers\n",
    "from tensorflow.keras import Sequential\n",
    "from tensorflow.keras.losses import CategoricalCrossentropy\n",
    "import numpy as np\n",
    "import glob\n",
    "from tensorflow.keras.preprocessing.image import ImageDataGenerator\n",
    "import matplotlib.pyplot as plt\n",
    "from tensorflow.keras.callbacks import EarlyStopping"
   ]
  },
  {
   "cell_type": "code",
   "execution_count": 3,
   "metadata": {},
   "outputs": [
    {
     "name": "stdout",
     "output_type": "stream",
     "text": [
      "Found 3000 images belonging to 3 classes.\n",
      "Found 582 images belonging to 3 classes.\n"
     ]
    }
   ],
   "source": [
    "from tensorflow.keras.preprocessing.image import ImageDataGenerator\n",
    "idg_train = ImageDataGenerator(rescale=1./255,\n",
    "                         #rotation_range=20,\n",
    "                         #width_shift_range=.15,\n",
    "                         #height_shift_range=.15,\n",
    "                         #horizontal_flip=True,\n",
    "                         #zoom_range=[0,0.2]\n",
    "                        )\n",
    "idg_validation_test = ImageDataGenerator(rescale=1./255)\n",
    "path ='dataset/'\n",
    "batch_size = 32 \n",
    "img_size = (1200,1200)\n",
    "\n",
    "train_dir = path + 'train'\n",
    "train_images = idg_train.flow_from_directory(batch_size=batch_size,\n",
    "                                             directory=train_dir,\n",
    "                                             #color_mode = 'grayscale'\n",
    "                                             target_size = img_size,\n",
    "                                             class_mode='categorical')\n",
    "\n",
    "\n",
    "batch_size = 1\n",
    "test_dir = path + 'test'\n",
    "test_images = idg_validation_test.flow_from_directory(batch_size=batch_size,\n",
    "                                                      directory=test_dir,\n",
    "                                                      #color_mode = 'grayscale'\n",
    "                                                      target_size= img_size,\n",
    "                                                      class_mode='categorical')\n"
   ]
  },
  {
   "cell_type": "code",
   "execution_count": 8,
   "metadata": {},
   "outputs": [
    {
     "name": "stdout",
     "output_type": "stream",
     "text": [
      "Model: \"sequential_4\"\n",
      "_________________________________________________________________\n",
      "Layer (type)                 Output Shape              Param #   \n",
      "=================================================================\n",
      "conv2d_20 (Conv2D)           (None, 597, 597, 64)      9472      \n",
      "_________________________________________________________________\n",
      "max_pooling2d_16 (MaxPooling (None, 298, 298, 64)      0         \n",
      "_________________________________________________________________\n",
      "conv2d_21 (Conv2D)           (None, 292, 292, 32)      100384    \n",
      "_________________________________________________________________\n",
      "max_pooling2d_17 (MaxPooling (None, 146, 146, 32)      0         \n",
      "_________________________________________________________________\n",
      "conv2d_22 (Conv2D)           (None, 140, 140, 32)      50208     \n",
      "_________________________________________________________________\n",
      "max_pooling2d_18 (MaxPooling (None, 70, 70, 32)        0         \n",
      "_________________________________________________________________\n",
      "conv2d_23 (Conv2D)           (None, 64, 64, 32)        50208     \n",
      "_________________________________________________________________\n",
      "max_pooling2d_19 (MaxPooling (None, 32, 32, 32)        0         \n",
      "_________________________________________________________________\n",
      "conv2d_24 (Conv2D)           (None, 26, 26, 32)        50208     \n",
      "_________________________________________________________________\n",
      "flatten_4 (Flatten)          (None, 21632)             0         \n",
      "_________________________________________________________________\n",
      "dense_12 (Dense)             (None, 32)                692256    \n",
      "_________________________________________________________________\n",
      "dense_13 (Dense)             (None, 8)                 264       \n",
      "_________________________________________________________________\n",
      "dense_14 (Dense)             (None, 3)                 27        \n",
      "=================================================================\n",
      "Total params: 953,027\n",
      "Trainable params: 953,027\n",
      "Non-trainable params: 0\n",
      "_________________________________________________________________\n"
     ]
    }
   ],
   "source": [
    "model2 = Sequential()\n",
    "model2.add(layers.Conv2D(64, (7,7), strides= (2,2), activation='relu', input_shape=(1200, 1200 ,3)))\n",
    "model2.add(layers.MaxPooling2D((2,2)))\n",
    "\n",
    "model2.add(layers.Conv2D(32, (7,7), activation='relu'))\n",
    "model2.add(layers.MaxPooling2D((2,2)))\n",
    "\n",
    "model2.add(layers.Conv2D(32, (7,7), activation='relu'))\n",
    "model2.add(layers.MaxPooling2D((2,2)))\n",
    "\n",
    "model2.add(layers.Conv2D(32, (7,7), activation='relu'))\n",
    "model2.add(layers.MaxPooling2D((2,2)))\n",
    "\n",
    "model2.add(layers.Conv2D(32, (7,7), activation='relu'))\n",
    "model2.add(layers.Flatten())\n",
    "\n",
    "model2.add(layers.Dense(32, activation= 'relu'))\n",
    "model2.add(layers.Dense(8, activation= 'relu'))\n",
    "model2.add(layers.Dense(3, activation= 'softmax'))\n",
    "model2.summary()"
   ]
  },
  {
   "cell_type": "code",
   "execution_count": 7,
   "metadata": {},
   "outputs": [
    {
     "name": "stdout",
     "output_type": "stream",
     "text": [
      "Epoch 1/35\n",
      "46/46 [==============================] - 159s 3s/step - loss: 1.0920 - accuracy: 0.3839 - val_loss: 1.0691 - val_accuracy: 0.5137\n",
      "Epoch 2/35\n",
      "46/46 [==============================] - 159s 3s/step - loss: 1.0352 - accuracy: 0.4672 - val_loss: 0.9166 - val_accuracy: 0.5410\n",
      "Epoch 3/35\n",
      "46/46 [==============================] - 162s 4s/step - loss: 0.8943 - accuracy: 0.5806 - val_loss: 0.8847 - val_accuracy: 0.5355\n",
      "Epoch 4/35\n",
      "46/46 [==============================] - 159s 3s/step - loss: 0.7972 - accuracy: 0.6578 - val_loss: 0.7292 - val_accuracy: 0.7213\n",
      "Epoch 5/35\n",
      "46/46 [==============================] - 164s 4s/step - loss: 0.7055 - accuracy: 0.7117 - val_loss: 0.7256 - val_accuracy: 0.6721\n",
      "Epoch 6/35\n",
      "46/46 [==============================] - 156s 3s/step - loss: 0.6204 - accuracy: 0.7473 - val_loss: 1.1845 - val_accuracy: 0.6120\n",
      "Epoch 7/35\n",
      "46/46 [==============================] - 162s 4s/step - loss: 0.6612 - accuracy: 0.7240 - val_loss: 0.5493 - val_accuracy: 0.7978\n",
      "Epoch 8/35\n",
      "46/46 [==============================] - 160s 3s/step - loss: 0.5379 - accuracy: 0.7869 - val_loss: 0.5817 - val_accuracy: 0.7923\n",
      "Epoch 9/35\n",
      "46/46 [==============================] - 160s 3s/step - loss: 0.5184 - accuracy: 0.7971 - val_loss: 0.5923 - val_accuracy: 0.7814\n",
      "Epoch 10/35\n",
      "46/46 [==============================] - 158s 3s/step - loss: 0.4334 - accuracy: 0.8367 - val_loss: 0.5220 - val_accuracy: 0.7705\n",
      "Epoch 11/35\n",
      "46/46 [==============================] - 150s 3s/step - loss: 0.3996 - accuracy: 0.8374 - val_loss: 0.6382 - val_accuracy: 0.7760\n",
      "Epoch 12/35\n",
      "46/46 [==============================] - 160s 3s/step - loss: 0.3909 - accuracy: 0.8470 - val_loss: 0.5745 - val_accuracy: 0.7978\n",
      "Epoch 13/35\n",
      "46/46 [==============================] - 156s 3s/step - loss: 0.3259 - accuracy: 0.8668 - val_loss: 0.6064 - val_accuracy: 0.7760\n",
      "Epoch 14/35\n",
      "46/46 [==============================] - 153s 3s/step - loss: 0.2768 - accuracy: 0.8934 - val_loss: 0.5931 - val_accuracy: 0.7869\n",
      "Restoring model weights from the end of the best epoch.\n",
      "Epoch 00014: early stopping\n"
     ]
    },
    {
     "data": {
      "text/plain": [
       "<matplotlib.legend.Legend at 0x7f8496d98850>"
      ]
     },
     "execution_count": 7,
     "metadata": {},
     "output_type": "execute_result"
    },
    {
     "data": {
      "image/png": "[encoded data removed]",
      "text/plain": [
       "<Figure size 432x288 with 1 Axes>"
      ]
     },
     "metadata": {
      "needs_background": "light"
     },
     "output_type": "display_data"
    }
   ],
   "source": [
    "model2.compile(optimizer='adam',\n",
    "              loss= CategoricalCrossentropy(from_logits=False),\n",
    "              metrics=['accuracy'])\n",
    "es =  EarlyStopping(monitor='val_loss', mode='min', verbose=1, patience = 8, restore_best_weights = True)\n",
    "history = model2.fit(train_images, epochs=35,validation_split= 0.2, use_multiprocessing = True, callbacks = [es] )\n",
    "plt.plot(history.history['accuracy'], label='accuracy')\n",
    "plt.plot(history.history['val_accuracy'], label = 'val_accuracy')\n",
    "plt.xlabel('Epoch')\n",
    "plt.ylabel('Accuracy')\n",
    "plt.ylim([0, 1])\n",
    "plt.legend(loc='lower right')\n",
    "\n"
   ]
  },
  {
   "cell_type": "code",
   "execution_count": 8,
   "metadata": {},
   "outputs": [
    {
     "name": "stdout",
     "output_type": "stream",
     "text": [
      "183/183 [==============================] - 3s 14ms/step - loss: 0.5220 - accuracy: 0.7705\n"
     ]
    },
    {
     "data": {
      "text/plain": [
       "[0.52202969789505, 0.7704917788505554]"
      ]
     },
     "execution_count": 8,
     "metadata": {},
     "output_type": "execute_result"
    }
   ],
   "source": [
    "model2.evaluate(test_images)"
   ]
  },
  {
   "cell_type": "code",
   "execution_count": 9,
   "metadata": {},
   "outputs": [
    {
     "name": "stdout",
     "output_type": "stream",
     "text": [
      "INFO:tensorflow:Assets written to: /Users/luizeduardosantos/Documents/Turing/Interpretando-CNNs/model2-files/assets\n"
     ]
    }
   ],
   "source": [
    "model2.save('model-files/')"
   ]
  }
 ],
 "metadata": {
  "interpreter": {
   "hash": "61d954621e7fe161d292da133f3bc2fe0b96b122d86b3622a4127a8e572f09d5"
  },
  "kernelspec": {
   "display_name": "Python 3.7.6 64-bit ('base': conda)",
   "language": "python",
   "name": "python3"
  },
  "language_info": {
   "codemirror_mode": {
    "name": "ipython",
    "version": 3
   },
   "file_extension": ".py",
   "mimetype": "text/x-python",
   "name": "python",
   "nbconvert_exporter": "python",
   "pygments_lexer": "ipython3",
   "version": "3.7.6"
  },
  "orig_nbformat": 4
 },
 "nbformat": 4,
 "nbformat_minor": 2
}
