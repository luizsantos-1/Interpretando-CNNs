{
 "cells": [
  {
   "cell_type": "code",
   "execution_count": 2,
   "metadata": {},
   "outputs": [],
   "source": [
    "from tensorflow.keras import layers\n",
    "from tensorflow.keras import Sequential\n",
    "from tensorflow.keras.losses import CategoricalCrossentropy\n",
    "import numpy as np\n",
    "import glob\n",
    "from tensorflow.keras.preprocessing.image import ImageDataGenerator\n",
    "import matplotlib.pyplot as plt\n",
    "from tensorflow.keras.callbacks import EarlyStopping"
   ]
  },
  {
   "cell_type": "code",
   "execution_count": 3,
   "metadata": {},
   "outputs": [
    {
     "name": "stdout",
     "output_type": "stream",
     "text": [
      "Found 5326 images belonging to 3 classes.\n",
      "Found 666 images belonging to 3 classes.\n",
      "Found 664 images belonging to 3 classes.\n"
     ]
    }
   ],
   "source": [
    "from tensorflow.keras.preprocessing.image import ImageDataGenerator\n",
    "idg_train = ImageDataGenerator(rescale=1./255,\n",
    "                         #rotation_range=10,\n",
    "                         #width_shift_range=.15,\n",
    "                         #height_shift_range=.15,\n",
    "                         horizontal_flip=True\n",
    "                         #zoom_range=[0,0.1]\n",
    "                         )\n",
    "idg_validation_test = ImageDataGenerator(rescale=1./255)\n",
    "path ='dataset/'\n",
    "batch_size = 32\n",
    "img_size = (250,250)\n",
    "\n",
    "train_dir = path + 'train'\n",
    "train_images = idg_train.flow_from_directory(batch_size=batch_size,\n",
    "                                             directory=train_dir,\n",
    "                                             #color_mode = 'grayscale'\n",
    "                                             target_size = img_size,\n",
    "                                             class_mode='categorical')\n",
    "\n",
    "validation_dir = path + 'validation'\n",
    "val_images = idg_validation_test.flow_from_directory(batch_size=batch_size,\n",
    "                                                     directory=validation_dir,\n",
    "                                                     #color_mode = 'grayscale',\n",
    "                                                     target_size= img_size,\n",
    "                                                     class_mode='categorical')\n",
    "\n",
    "batch_size = 1\n",
    "test_dir = path + 'test'\n",
    "test_images = idg_validation_test.flow_from_directory(batch_size=batch_size,\n",
    "                                                      directory=test_dir,\n",
    "                                                      #color_mode = 'grayscale'\n",
    "                                                      target_size= img_size,\n",
    "                                                      class_mode='categorical')"
   ]
  },
  {
   "cell_type": "code",
   "execution_count": 15,
   "metadata": {},
   "outputs": [
    {
     "name": "stdout",
     "output_type": "stream",
     "text": [
      "Model: \"sequential_2\"\n",
      "_________________________________________________________________\n",
      "Layer (type)                 Output Shape              Param #   \n",
      "=================================================================\n",
      "conv2d_10 (Conv2D)           (None, 244, 244, 64)      9472      \n",
      "_________________________________________________________________\n",
      "max_pooling2d_8 (MaxPooling2 (None, 122, 122, 64)      0         \n",
      "_________________________________________________________________\n",
      "conv2d_11 (Conv2D)           (None, 116, 116, 32)      100384    \n",
      "_________________________________________________________________\n",
      "max_pooling2d_9 (MaxPooling2 (None, 58, 58, 32)        0         \n",
      "_________________________________________________________________\n",
      "conv2d_12 (Conv2D)           (None, 52, 52, 32)        50208     \n",
      "_________________________________________________________________\n",
      "max_pooling2d_10 (MaxPooling (None, 26, 26, 32)        0         \n",
      "_________________________________________________________________\n",
      "conv2d_13 (Conv2D)           (None, 20, 20, 32)        50208     \n",
      "_________________________________________________________________\n",
      "max_pooling2d_11 (MaxPooling (None, 10, 10, 32)        0         \n",
      "_________________________________________________________________\n",
      "conv2d_14 (Conv2D)           (None, 4, 4, 32)          50208     \n",
      "_________________________________________________________________\n",
      "flatten_2 (Flatten)          (None, 512)               0         \n",
      "_________________________________________________________________\n",
      "dense_6 (Dense)              (None, 32)                16416     \n",
      "_________________________________________________________________\n",
      "dense_7 (Dense)              (None, 8)                 264       \n",
      "_________________________________________________________________\n",
      "dense_8 (Dense)              (None, 3)                 27        \n",
      "=================================================================\n",
      "Total params: 277,187\n",
      "Trainable params: 277,187\n",
      "Non-trainable params: 0\n",
      "_________________________________________________________________\n"
     ]
    }
   ],
   "source": [
    "model2 = Sequential()\n",
    "model2.add(layers.Conv2D(64, (7,7), activation='relu', input_shape=(250, 250 ,3)))\n",
    "model2.add(layers.MaxPooling2D((2,2)))\n",
    "\n",
    "model2.add(layers.Conv2D(32, (7,7), activation='relu'))\n",
    "model2.add(layers.MaxPooling2D((2,2)))\n",
    "\n",
    "model2.add(layers.Conv2D(32, (7,7), activation='relu'))\n",
    "model2.add(layers.MaxPooling2D((2,2)))\n",
    "\n",
    "model2.add(layers.Conv2D(32, (7,7), activation='relu'))\n",
    "model2.add(layers.MaxPooling2D((2,2)))\n",
    "\n",
    "model2.add(layers.Conv2D(32, (7,7), activation='relu'))\n",
    "model2.add(layers.Flatten())\n",
    "\n",
    "model2.add(layers.Dense(32, activation= 'relu'))\n",
    "model2.add(layers.Dense(8, activation= 'relu'))\n",
    "model2.add(layers.Dense(3, activation= 'softmax'))\n",
    "model2.summary()"
   ]
  },
  {
   "cell_type": "code",
   "execution_count": 16,
   "metadata": {},
   "outputs": [
    {
     "name": "stdout",
     "output_type": "stream",
     "text": [
      "Epoch 1/35\n",
      "167/167 [==============================] - 596s 4s/step - loss: 1.0418 - accuracy: 0.4694 - val_loss: 0.9414 - val_accuracy: 0.5300\n",
      "Epoch 2/35\n",
      "167/167 [==============================] - 617s 4s/step - loss: 0.9365 - accuracy: 0.5340 - val_loss: 1.0109 - val_accuracy: 0.5105\n",
      "Epoch 3/35\n",
      "167/167 [==============================] - 598s 4s/step - loss: 0.8698 - accuracy: 0.5896 - val_loss: 0.7245 - val_accuracy: 0.7237\n",
      "Epoch 4/35\n",
      "167/167 [==============================] - 578s 3s/step - loss: 0.7212 - accuracy: 0.6846 - val_loss: 0.7643 - val_accuracy: 0.7027\n",
      "Epoch 5/35\n",
      "167/167 [==============================] - 709s 4s/step - loss: 0.6087 - accuracy: 0.7430 - val_loss: 0.5939 - val_accuracy: 0.7553\n",
      "Epoch 6/35\n",
      "167/167 [==============================] - 722s 4s/step - loss: 0.5593 - accuracy: 0.7792 - val_loss: 0.6142 - val_accuracy: 0.7387\n",
      "Epoch 7/35\n",
      "167/167 [==============================] - 732s 4s/step - loss: 0.5157 - accuracy: 0.7908 - val_loss: 0.5507 - val_accuracy: 0.7808\n",
      "Epoch 8/35\n",
      "167/167 [==============================] - 639s 4s/step - loss: 0.4466 - accuracy: 0.8222 - val_loss: 0.4643 - val_accuracy: 0.8198\n",
      "Epoch 9/35\n",
      "167/167 [==============================] - 537s 3s/step - loss: 0.4197 - accuracy: 0.8357 - val_loss: 0.4493 - val_accuracy: 0.8198\n",
      "Epoch 10/35\n",
      "167/167 [==============================] - 523s 3s/step - loss: 0.3766 - accuracy: 0.8513 - val_loss: 0.4353 - val_accuracy: 0.8213\n",
      "Epoch 11/35\n",
      "167/167 [==============================] - 519s 3s/step - loss: 0.3575 - accuracy: 0.8611 - val_loss: 0.5110 - val_accuracy: 0.7988\n",
      "Epoch 12/35\n",
      "167/167 [==============================] - 519s 3s/step - loss: 0.3350 - accuracy: 0.8688 - val_loss: 0.4522 - val_accuracy: 0.8288\n",
      "Epoch 13/35\n",
      "167/167 [==============================] - 520s 3s/step - loss: 0.3054 - accuracy: 0.8798 - val_loss: 0.4316 - val_accuracy: 0.8498\n",
      "Epoch 14/35\n",
      "167/167 [==============================] - 519s 3s/step - loss: 0.2800 - accuracy: 0.8900 - val_loss: 0.4219 - val_accuracy: 0.8514\n",
      "Epoch 15/35\n",
      "167/167 [==============================] - 3783s 23s/step - loss: 0.2659 - accuracy: 0.8982 - val_loss: 0.4018 - val_accuracy: 0.8544\n",
      "Epoch 16/35\n",
      "167/167 [==============================] - 521s 3s/step - loss: 0.2593 - accuracy: 0.8965 - val_loss: 0.3971 - val_accuracy: 0.8333\n",
      "Epoch 17/35\n",
      "167/167 [==============================] - 559s 3s/step - loss: 0.2395 - accuracy: 0.9087 - val_loss: 0.4608 - val_accuracy: 0.8438\n",
      "Epoch 18/35\n",
      "167/167 [==============================] - 559s 3s/step - loss: 0.2134 - accuracy: 0.9198 - val_loss: 0.4104 - val_accuracy: 0.8649\n",
      "Epoch 19/35\n",
      "167/167 [==============================] - 560s 3s/step - loss: 0.2393 - accuracy: 0.9097 - val_loss: 0.4072 - val_accuracy: 0.8529\n",
      "Epoch 20/35\n",
      "167/167 [==============================] - 565s 3s/step - loss: 0.2212 - accuracy: 0.9166 - val_loss: 0.4795 - val_accuracy: 0.8514\n",
      "Epoch 21/35\n",
      "167/167 [==============================] - 619s 4s/step - loss: 0.1902 - accuracy: 0.9307 - val_loss: 0.4133 - val_accuracy: 0.8498\n",
      "Epoch 22/35\n",
      "167/167 [==============================] - 540s 3s/step - loss: 0.1992 - accuracy: 0.9290 - val_loss: 0.4148 - val_accuracy: 0.8589\n",
      "Epoch 23/35\n",
      "167/167 [==============================] - 524s 3s/step - loss: 0.1813 - accuracy: 0.9309 - val_loss: 0.4242 - val_accuracy: 0.8739\n",
      "Epoch 24/35\n",
      "167/167 [==============================] - 522s 3s/step - loss: 0.1603 - accuracy: 0.9390 - val_loss: 0.5026 - val_accuracy: 0.8453\n",
      "Restoring model weights from the end of the best epoch.\n",
      "Epoch 00024: early stopping\n"
     ]
    },
    {
     "data": {
      "text/plain": [
       "<matplotlib.legend.Legend at 0x7fa1289ec150>"
      ]
     },
     "execution_count": 16,
     "metadata": {},
     "output_type": "execute_result"
    },
    {
     "data": {
      "image/png": "[encoded data removed]",
      "text/plain": [
       "<Figure size 432x288 with 1 Axes>"
      ]
     },
     "metadata": {
      "needs_background": "light"
     },
     "output_type": "display_data"
    }
   ],
   "source": [
    "model2.compile(optimizer=\"adam\",loss= CategoricalCrossentropy(from_logits=False),metrics=['accuracy'])\n",
    "es =  EarlyStopping(monitor='val_loss', mode='min', verbose=1, patience = 8, restore_best_weights = True)\n",
    "history = model2.fit(train_images, epochs=35,validation_data = val_images ,use_multiprocessing = True, callbacks = [es] )\n",
    "plt.plot(history.history['accuracy'], label='accuracy')\n",
    "plt.plot(history.history['val_accuracy'], label = 'val_accuracy')\n",
    "plt.xlabel('Epoch')\n",
    "plt.ylabel('Accuracy')\n",
    "plt.ylim([0, 1])\n",
    "plt.legend(loc='lower right')\n"
   ]
  },
  {
   "cell_type": "code",
   "execution_count": 19,
   "metadata": {},
   "outputs": [
    {
     "name": "stdout",
     "output_type": "stream",
     "text": [
      "664/664 [==============================] - 10s 15ms/step - loss: 0.3812 - accuracy: 0.8855\n"
     ]
    },
    {
     "data": {
      "text/plain": [
       "[0.3811708092689514, 0.8855421543121338]"
      ]
     },
     "execution_count": 19,
     "metadata": {},
     "output_type": "execute_result"
    }
   ],
   "source": [
    "model2.evaluate(test_images)"
   ]
  },
  {
   "cell_type": "code",
   "execution_count": 20,
   "metadata": {},
   "outputs": [
    {
     "name": "stdout",
     "output_type": "stream",
     "text": [
      "INFO:tensorflow:Assets written to: model-files/assets\n"
     ]
    }
   ],
   "source": [
    "model2.save('model-files/')"
   ]
  }
 ],
 "metadata": {
  "interpreter": {
   "hash": "61d954621e7fe161d292da133f3bc2fe0b96b122d86b3622a4127a8e572f09d5"
  },
  "kernelspec": {
   "display_name": "Python 3.7.6 64-bit ('base': conda)",
   "language": "python",
   "name": "python3"
  },
  "language_info": {
   "codemirror_mode": {
    "name": "ipython",
    "version": 3
   },
   "file_extension": ".py",
   "mimetype": "text/x-python",
   "name": "python",
   "nbconvert_exporter": "python",
   "pygments_lexer": "ipython3",
   "version": "3.8.2"
  },
  "orig_nbformat": 4
 },
 "nbformat": 4,
 "nbformat_minor": 2
}
