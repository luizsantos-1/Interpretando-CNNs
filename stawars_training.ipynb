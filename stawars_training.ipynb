{
 "cells": [
  {
   "cell_type": "code",
   "execution_count": 1,
   "metadata": {},
   "outputs": [],
   "source": [
    "from tensorflow.keras import layers\n",
    "from tensorflow.keras import Sequential\n",
    "from tensorflow.keras.losses import CategoricalCrossentropy\n",
    "import tensorflow as tf\n",
    "import numpy as np\n",
    "import glob\n",
    "from tensorflow.keras.preprocessing.image import ImageDataGenerator\n",
    "import matplotlib.pyplot as plt"
   ]
  },
  {
   "cell_type": "code",
   "execution_count": 2,
   "metadata": {},
   "outputs": [
    {
     "name": "stdout",
     "output_type": "stream",
     "text": [
      "Found 1464 images belonging to 3 classes.\n",
      "Found 183 images belonging to 3 classes.\n",
      "Found 183 images belonging to 3 classes.\n"
     ]
    }
   ],
   "source": [
    "from tensorflow.keras.preprocessing.image import ImageDataGenerator\n",
    "idg_train = ImageDataGenerator(rescale=1./255,\n",
    "                         #rotation_range=20,\n",
    "                         #width_shift_range=.15,\n",
    "                         #height_shift_range=.15,\n",
    "                         #horizontal_flip=True,\n",
    "                         #zoom_range=[0,0.2]\n",
    "                        )\n",
    "idg_validation_test = ImageDataGenerator(rescale=1./255)\n",
    "path ='/Users/luizeduardosantos/Documents/Turing/projeto-trainee-cv/'\n",
    "batch_size = 32 \n",
    "img_size = (256,256)\n",
    "\n",
    "train_dir = path + 'train'\n",
    "train_images = idg_train.flow_from_directory(batch_size=batch_size,\n",
    "                                             directory=train_dir,\n",
    "                                             #color_mode = 'grayscale'\n",
    "                                             target_size = img_size,\n",
    "                                             class_mode='categorical')\n",
    "\n",
    "validation_dir = path + 'validation'\n",
    "val_images = idg_validation_test.flow_from_directory(batch_size=batch_size,\n",
    "                                                     directory=validation_dir,\n",
    "                                                     #color_mode = 'grayscale',\n",
    "                                                     target_size= img_size,\n",
    "                                                     class_mode='categorical')\n",
    "\n",
    "batch_size = 1\n",
    "test_dir = path + 'test'\n",
    "test_images = idg_validation_test.flow_from_directory(batch_size=batch_size,\n",
    "                                                      directory=validation_dir,\n",
    "                                                      #color_mode = 'grayscale'\n",
    "                                                      target_size= img_size,\n",
    "                                                      class_mode='categorical')\n"
   ]
  },
  {
   "cell_type": "code",
   "execution_count": 10,
   "metadata": {},
   "outputs": [
    {
     "name": "stdout",
     "output_type": "stream",
     "text": [
      "Model: \"sequential_3\"\n",
      "_________________________________________________________________\n",
      "Layer (type)                 Output Shape              Param #   \n",
      "=================================================================\n",
      "conv2d_9 (Conv2D)            (None, 254, 254, 32)      896       \n",
      "_________________________________________________________________\n",
      "max_pooling2d_6 (MaxPooling2 (None, 127, 127, 32)      0         \n",
      "_________________________________________________________________\n",
      "conv2d_10 (Conv2D)           (None, 125, 125, 64)      18496     \n",
      "_________________________________________________________________\n",
      "max_pooling2d_7 (MaxPooling2 (None, 62, 62, 64)        0         \n",
      "_________________________________________________________________\n",
      "conv2d_11 (Conv2D)           (None, 60, 60, 64)        36928     \n",
      "_________________________________________________________________\n",
      "flatten_3 (Flatten)          (None, 230400)            0         \n",
      "_________________________________________________________________\n",
      "dense_9 (Dense)              (None, 32)                7372832   \n",
      "_________________________________________________________________\n",
      "dense_10 (Dense)             (None, 8)                 264       \n",
      "_________________________________________________________________\n",
      "dense_11 (Dense)             (None, 3)                 27        \n",
      "=================================================================\n",
      "Total params: 7,429,443\n",
      "Trainable params: 7,429,443\n",
      "Non-trainable params: 0\n",
      "_________________________________________________________________\n"
     ]
    }
   ],
   "source": [
    "model2 = 1\n",
    "model2 = Sequential()\n",
    "model2.add(layers.Conv2D(32, (3,3), activation='relu', input_shape=(256, 256 ,3)))\n",
    "model2.add(layers.MaxPooling2D((2,2)))\n",
    "\n",
    "model2.add(layers.Conv2D(64, (3,3), activation='relu'))\n",
    "model2.add(layers.MaxPooling2D((2,2)))\n",
    "\n",
    "model2.add(layers.Conv2D(64, (3,3), activation='relu'))\n",
    "model2.add(layers.Flatten())\n",
    "\n",
    "model2.add(layers.Dense(32, activation= 'relu'))\n",
    "model2.add(layers.Dense(8, activation= 'relu'))\n",
    "model2.add(layers.Dense(3, activation= 'softmax'))\n",
    "model2.summary()"
   ]
  },
  {
   "cell_type": "code",
   "execution_count": 11,
   "metadata": {},
   "outputs": [
    {
     "name": "stdout",
     "output_type": "stream",
     "text": [
      "Epoch 1/15\n",
      "46/46 [==============================] - 46s 991ms/step - loss: 1.1799 - accuracy: 0.3620 - val_loss: 0.9913 - val_accuracy: 0.4863\n",
      "Epoch 2/15\n",
      "46/46 [==============================] - 48s 1s/step - loss: 1.0100 - accuracy: 0.4884 - val_loss: 1.0641 - val_accuracy: 0.4262\n",
      "Epoch 3/15\n",
      "46/46 [==============================] - 50s 1s/step - loss: 0.9050 - accuracy: 0.5533 - val_loss: 0.8188 - val_accuracy: 0.6120\n",
      "Epoch 4/15\n",
      "46/46 [==============================] - 49s 1s/step - loss: 0.8349 - accuracy: 0.5936 - val_loss: 0.7774 - val_accuracy: 0.6175\n",
      "Epoch 5/15\n",
      "46/46 [==============================] - 49s 1s/step - loss: 0.7798 - accuracy: 0.6189 - val_loss: 0.7769 - val_accuracy: 0.6011\n",
      "Epoch 6/15\n",
      "46/46 [==============================] - 49s 1s/step - loss: 0.7417 - accuracy: 0.6407 - val_loss: 0.7835 - val_accuracy: 0.6175\n",
      "Epoch 7/15\n",
      "46/46 [==============================] - 49s 1s/step - loss: 0.7186 - accuracy: 0.6646 - val_loss: 0.7402 - val_accuracy: 0.6995\n",
      "Epoch 8/15\n",
      "46/46 [==============================] - 49s 1s/step - loss: 0.6595 - accuracy: 0.6933 - val_loss: 0.7366 - val_accuracy: 0.7158\n",
      "Epoch 9/15\n",
      "46/46 [==============================] - 49s 1s/step - loss: 0.5612 - accuracy: 0.7712 - val_loss: 0.6101 - val_accuracy: 0.7541\n",
      "Epoch 10/15\n",
      "46/46 [==============================] - 49s 1s/step - loss: 0.4491 - accuracy: 0.8258 - val_loss: 0.6035 - val_accuracy: 0.7705\n",
      "Epoch 11/15\n",
      "46/46 [==============================] - 48s 1s/step - loss: 0.3625 - accuracy: 0.8620 - val_loss: 0.6173 - val_accuracy: 0.7814\n",
      "Epoch 12/15\n",
      "46/46 [==============================] - 49s 1s/step - loss: 0.2692 - accuracy: 0.9003 - val_loss: 0.8390 - val_accuracy: 0.7760\n",
      "Epoch 13/15\n",
      "46/46 [==============================] - 48s 1s/step - loss: 0.2207 - accuracy: 0.9126 - val_loss: 0.7623 - val_accuracy: 0.7760\n",
      "Epoch 14/15\n",
      "46/46 [==============================] - 49s 1s/step - loss: 0.1621 - accuracy: 0.9406 - val_loss: 0.6526 - val_accuracy: 0.8251\n",
      "Epoch 15/15\n",
      "46/46 [==============================] - 49s 1s/step - loss: 0.1213 - accuracy: 0.9570 - val_loss: 0.9004 - val_accuracy: 0.7650\n"
     ]
    },
    {
     "data": {
      "text/plain": [
       "<matplotlib.legend.Legend at 0x7ff412440790>"
      ]
     },
     "execution_count": 11,
     "metadata": {},
     "output_type": "execute_result"
    },
    {
     "data": {
      "image/png": "[encoded data removed]",
      "text/plain": [
       "<Figure size 432x288 with 1 Axes>"
      ]
     },
     "metadata": {
      "needs_background": "light"
     },
     "output_type": "display_data"
    }
   ],
   "source": [
    "model2.compile(optimizer='adam',\n",
    "              loss= CategoricalCrossentropy(from_logits=False),\n",
    "              metrics=['accuracy'])\n",
    "\n",
    "history = model2.fit(train_images, epochs=15,validation_data = val_images)\n",
    "plt.plot(history.history['accuracy'], label='accuracy')\n",
    "plt.plot(history.history['val_accuracy'], label = 'val_accuracy')\n",
    "plt.xlabel('Epoch')\n",
    "plt.ylabel('Accuracy')\n",
    "plt.ylim([0, 1])\n",
    "plt.legend(loc='lower right')\n",
    "\n"
   ]
  },
  {
   "cell_type": "code",
   "execution_count": 12,
   "metadata": {},
   "outputs": [
    {
     "name": "stdout",
     "output_type": "stream",
     "text": [
      "183/183 [==============================] - 2s 11ms/step - loss: 0.9004 - accuracy: 0.7650\n"
     ]
    },
    {
     "data": {
      "text/plain": [
       "[0.9004044532775879, 0.7650273442268372]"
      ]
     },
     "execution_count": 12,
     "metadata": {},
     "output_type": "execute_result"
    }
   ],
   "source": [
    "model2.evaluate(test_images)"
   ]
  },
  {
   "cell_type": "code",
   "execution_count": 13,
   "metadata": {},
   "outputs": [
    {
     "name": "stdout",
     "output_type": "stream",
     "text": [
      "INFO:tensorflow:Assets written to: /Users/luizeduardosantos/Documents/Turing/Interpretando-CNNs/model2-files/assets\n"
     ]
    }
   ],
   "source": [
    "model2.save('/Users/luizeduardosantos/Documents/Turing/Interpretando-CNNs/model2-files/')"
   ]
  },
  {
   "cell_type": "code",
   "execution_count": null,
   "metadata": {},
   "outputs": [],
   "source": []
  }
 ],
 "metadata": {
  "interpreter": {
   "hash": "61d954621e7fe161d292da133f3bc2fe0b96b122d86b3622a4127a8e572f09d5"
  },
  "kernelspec": {
   "display_name": "Python 3.7.6 64-bit ('base': conda)",
   "language": "python",
   "name": "python3"
  },
  "language_info": {
   "codemirror_mode": {
    "name": "ipython",
    "version": 3
   },
   "file_extension": ".py",
   "mimetype": "text/x-python",
   "name": "python",
   "nbconvert_exporter": "python",
   "pygments_lexer": "ipython3",
   "version": "3.7.6"
  },
  "orig_nbformat": 4
 },
 "nbformat": 4,
 "nbformat_minor": 2
}
