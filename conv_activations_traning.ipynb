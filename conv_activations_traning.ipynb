{
 "cells": [
  {
   "cell_type": "code",
   "execution_count": 49,
   "metadata": {},
   "outputs": [],
   "source": [
    "from tensorflow import keras\n",
    "from tf_keras_vis.activation_maximization import ActivationMaximization\n",
    "from tensorflow import random"
   ]
  },
  {
   "cell_type": "code",
   "execution_count": 50,
   "metadata": {},
   "outputs": [],
   "source": [
    "from tf_keras_vis.activation_maximization.regularizers import Norm, TotalVariation2D\n",
    "from tf_keras_vis.activation_maximization.input_modifiers import Jitter, Rotate2D, Scale\n",
    "from tensorflow.keras.optimizers import RMSprop, Adam"
   ]
  },
  {
   "cell_type": "code",
   "execution_count": 51,
   "metadata": {},
   "outputs": [],
   "source": [
    "model =  keras.models.load_model(\"model-files\")"
   ]
  },
  {
   "cell_type": "code",
   "execution_count": 52,
   "metadata": {},
   "outputs": [
    {
     "name": "stdout",
     "output_type": "stream",
     "text": [
      "Model: \"sequential_2\"\n",
      "_________________________________________________________________\n",
      " Layer (type)                Output Shape              Param #   \n",
      "=================================================================\n",
      " conv2d_10 (Conv2D)          (None, 244, 244, 64)      9472      \n",
      "                                                                 \n",
      " max_pooling2d_8 (MaxPooling  (None, 122, 122, 64)     0         \n",
      " 2D)                                                             \n",
      "                                                                 \n",
      " conv2d_11 (Conv2D)          (None, 116, 116, 32)      100384    \n",
      "                                                                 \n",
      " max_pooling2d_9 (MaxPooling  (None, 58, 58, 32)       0         \n",
      " 2D)                                                             \n",
      "                                                                 \n",
      " conv2d_12 (Conv2D)          (None, 52, 52, 32)        50208     \n",
      "                                                                 \n",
      " max_pooling2d_10 (MaxPoolin  (None, 26, 26, 32)       0         \n",
      " g2D)                                                            \n",
      "                                                                 \n",
      " conv2d_13 (Conv2D)          (None, 20, 20, 32)        50208     \n",
      "                                                                 \n",
      " max_pooling2d_11 (MaxPoolin  (None, 10, 10, 32)       0         \n",
      " g2D)                                                            \n",
      "                                                                 \n",
      " conv2d_14 (Conv2D)          (None, 4, 4, 32)          50208     \n",
      "                                                                 \n",
      " flatten_2 (Flatten)         (None, 512)               0         \n",
      "                                                                 \n",
      " dense_6 (Dense)             (None, 32)                16416     \n",
      "                                                                 \n",
      " dense_7 (Dense)             (None, 8)                 264       \n",
      "                                                                 \n",
      " dense_8 (Dense)             (None, 3)                 27        \n",
      "                                                                 \n",
      "=================================================================\n",
      "Total params: 277,187\n",
      "Trainable params: 277,187\n",
      "Non-trainable params: 0\n",
      "_________________________________________________________________\n"
     ]
    }
   ],
   "source": [
    "model.summary()"
   ]
  },
  {
   "cell_type": "code",
   "execution_count": 53,
   "metadata": {},
   "outputs": [
    {
     "name": "stdout",
     "output_type": "stream",
     "text": [
      "200/200 [==============================] - 662s 3s/step - Score: 50.3194 - TotalVariation2D: 3.7600 - Norm: 12.7250\n",
      "200/200 [==============================] - 680s 3s/step - Score: 677.4527 - TotalVariation2D: 4.8023 - Norm: 12.7532\n"
     ]
    }
   ],
   "source": [
    "from tf_keras_vis.utils.model_modifiers import ExtractIntermediateLayer, ReplaceToLinear\n",
    "from tf_keras_vis.utils.scores import CategoricalScore\n",
    "from tf_keras_vis.activation_maximization import ActivationMaximization\n",
    "from tf_keras_vis.activation_maximization.callbacks import Progress, GifGenerator2D\n",
    "\n",
    "max_filters = 20\n",
    "\n",
    "layer_names = [\"conv2d_13\", \"conv2d_14\"]\n",
    "activations = {}\n",
    "for layer_name in layer_names:\n",
    "    n_filters = min(model.get_layer(layer_name).filters, max_filters)\n",
    "\n",
    "    extract_intermediate_layer = ExtractIntermediateLayer(index_or_name=layer_name)\n",
    "    replace2linear = ReplaceToLinear()\n",
    "    activation_maximization = ActivationMaximization(model,model_modifier=[extract_intermediate_layer, replace2linear],clone=True)\n",
    "    \n",
    "    seed_input_shape  = (n_filters, model.input_shape[1], model.input_shape[2],model.input_shape[3])\n",
    "    seed_input = random.uniform(seed_input_shape, 0, 255)\n",
    "    scores = CategoricalScore(list(range(n_filters)))\n",
    "\n",
    "    regularizers=[TotalVariation2D(weight=1), Norm(weight=0.1, p=1)]\n",
    "    input_modifiers = [Jitter(jitter=1), Rotate2D(degree=2)],\n",
    "    optimizer = RMSprop(learning_rate = 0.1)\n",
    "    activations[layer_name] = activation_maximization(scores,\n",
    "                                                    steps = 200 ,\n",
    "                                                    regularizers=regularizers,\n",
    "                                                    optimizer = optimizer,\n",
    "                                                    input_modifiers = input_modifiers,\n",
    "                                                    seed_input = seed_input, \n",
    "                                                    callbacks=[Progress(), GifGenerator2D(\"gif/optimizer.gif\")])\n"
   ]
  },
  {
   "cell_type": "code",
   "execution_count": 55,
   "metadata": {},
   "outputs": [],
   "source": [
    "from numpy import savez_compressed\n",
    "for layer_name in layer_names:\n",
    "    savez_compressed(\"activation-files/activations_\" + layer_name +'.npz', activations[layer_name])"
   ]
  }
 ],
 "metadata": {
  "interpreter": {
   "hash": "61d954621e7fe161d292da133f3bc2fe0b96b122d86b3622a4127a8e572f09d5"
  },
  "kernelspec": {
   "display_name": "Python 3.7.6 ('base')",
   "language": "python",
   "name": "python3"
  },
  "language_info": {
   "codemirror_mode": {
    "name": "ipython",
    "version": 3
   },
   "file_extension": ".py",
   "mimetype": "text/x-python",
   "name": "python",
   "nbconvert_exporter": "python",
   "pygments_lexer": "ipython3",
   "version": "3.8.2"
  },
  "orig_nbformat": 4
 },
 "nbformat": 4,
 "nbformat_minor": 2
}
