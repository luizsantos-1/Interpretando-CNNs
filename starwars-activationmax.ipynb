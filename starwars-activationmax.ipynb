{
 "cells": [
  {
   "cell_type": "code",
   "execution_count": 12,
   "metadata": {},
   "outputs": [],
   "source": [
    "from tensorflow import keras\n",
    "from tf_keras_vis.activation_maximization import ActivationMaximization\n",
    "import matplotlib.pyplot as plt\n",
    "import tensorflow as tf"
   ]
  },
  {
   "cell_type": "code",
   "execution_count": 13,
   "metadata": {},
   "outputs": [],
   "source": [
    "model =  keras.models.load_model('/Users/luizeduardosantos/Documents/Turing/Interpretando-CNNs/model2-files/')"
   ]
  },
  {
   "cell_type": "code",
   "execution_count": 14,
   "metadata": {},
   "outputs": [
    {
     "name": "stdout",
     "output_type": "stream",
     "text": [
      "Model: \"sequential_3\"\n",
      "_________________________________________________________________\n",
      "Layer (type)                 Output Shape              Param #   \n",
      "=================================================================\n",
      "conv2d_9 (Conv2D)            (None, 254, 254, 32)      896       \n",
      "_________________________________________________________________\n",
      "max_pooling2d_6 (MaxPooling2 (None, 127, 127, 32)      0         \n",
      "_________________________________________________________________\n",
      "conv2d_10 (Conv2D)           (None, 125, 125, 64)      18496     \n",
      "_________________________________________________________________\n",
      "max_pooling2d_7 (MaxPooling2 (None, 62, 62, 64)        0         \n",
      "_________________________________________________________________\n",
      "conv2d_11 (Conv2D)           (None, 60, 60, 64)        36928     \n",
      "_________________________________________________________________\n",
      "flatten_3 (Flatten)          (None, 230400)            0         \n",
      "_________________________________________________________________\n",
      "dense_9 (Dense)              (None, 32)                7372832   \n",
      "_________________________________________________________________\n",
      "dense_10 (Dense)             (None, 8)                 264       \n",
      "_________________________________________________________________\n",
      "dense_11 (Dense)             (None, 3)                 27        \n",
      "=================================================================\n",
      "Total params: 7,429,443\n",
      "Trainable params: 7,429,443\n",
      "Non-trainable params: 0\n",
      "_________________________________________________________________\n"
     ]
    }
   ],
   "source": [
    "model.summary()"
   ]
  },
  {
   "cell_type": "code",
   "execution_count": 15,
   "metadata": {},
   "outputs": [],
   "source": [
    "from tf_keras_vis.utils.model_modifiers import ExtractIntermediateLayer, ReplaceToLinear\n",
    "layer_name = 'conv2d_11' \n",
    "\n",
    "# This instance constructs new model whose output is replaced to `conv2d_11` layer's output.\n",
    "extract_intermediate_layer = ExtractIntermediateLayer(index_or_name=layer_name)\n",
    "# This instance modify the model's last activation function to linear one.\n",
    "replace2linear = ReplaceToLinear()\n",
    "\n",
    "# Instead of using ExtractIntermediateLayer and ReplaceToLinear instance,\n",
    "# you can also define the function from scratch as follows:\n",
    "def model_modifier_function(current_model):\n",
    "    target_layer = current_model.get_layer(name=layer_name)\n",
    "    target_layer.activation = tf.keras.activations.linear\n",
    "    new_model = tf.keras.Model(inputs=current_model.inputs,\n",
    "                               outputs=target_layer.output)\n",
    "    return new_model"
   ]
  },
  {
   "cell_type": "code",
   "execution_count": 17,
   "metadata": {},
   "outputs": [],
   "source": [
    "from tf_keras_vis.utils.scores import CategoricalScore\n",
    "\n",
    "score = []\n",
    "for filter_number in range (10):\n",
    "    score.append(CategoricalScore(filter_number))\n",
    "\n",
    "# Instead of using CategoricalScore object above,\n",
    "# o autor ensina ocmo definir uma funcao de erro personalizada"
   ]
  },
  {
   "cell_type": "code",
   "execution_count": 18,
   "metadata": {},
   "outputs": [],
   "source": [
    "from tf_keras_vis.activation_maximization import ActivationMaximization\n",
    "\n",
    "activation_maximization = ActivationMaximization(model,\n",
    "                                                 # Please note that `extract_intermediate_layer` has to come before `replace2linear`.\n",
    "                                                 model_modifier=[extract_intermediate_layer, replace2linear],\n",
    "                                                 clone=True)"
   ]
  },
  {
   "cell_type": "code",
   "execution_count": 19,
   "metadata": {},
   "outputs": [
    {
     "name": "stdout",
     "output_type": "stream",
     "text": [
      "400/400 [==============================] - 43s 107ms/step - Score: 2.2128 - TotalVariation2D: 3.6353 - Norm: 15.3981\n",
      "400/400 [==============================] - 43s 108ms/step - Score: 84.8271 - TotalVariation2D: 14.7137 - Norm: 18.4330\n",
      "400/400 [==============================] - 44s 109ms/step - Score: 202.1774 - TotalVariation2D: 26.2430 - Norm: 23.3450\n",
      "400/400 [==============================] - 44s 109ms/step - Score: -0.4476 - TotalVariation2D: 4.8161 - Norm: 8.3380\n",
      "400/400 [==============================] - 44s 111ms/step - Score: -4.0024 - TotalVariation2D: 3.5860 - Norm: 8.2814\n",
      "400/400 [==============================] - 45s 111ms/step - Score: -5.1768 - TotalVariation2D: 3.5959 - Norm: 9.3694\n",
      "400/400 [==============================] - 44s 109ms/step - Score: -3.9155 - TotalVariation2D: 3.7342 - Norm: 9.2578\n",
      "400/400 [==============================] - 44s 110ms/step - Score: -5.5425 - TotalVariation2D: 3.5736 - Norm: 8.6380\n",
      "400/400 [==============================] - 45s 113ms/step - Score: -4.1542 - TotalVariation2D: 3.5790 - Norm: 10.4645\n",
      "400/400 [==============================] - 44s 110ms/step - Score: 545.6395 - TotalVariation2D: 30.8343 - Norm: 32.8838\n"
     ]
    }
   ],
   "source": [
    "from tf_keras_vis.activation_maximization.callbacks import Progress\n",
    " \n",
    "# Generate maximized activation\n",
    "activations = []\n",
    "for filter_number in range (10):\n",
    "    activations.append(activation_maximization(score[filter_number], callbacks=[Progress()]))\n",
    "\n",
    "## Since v0.6.0, calling `astype()` is NOT necessary.\n",
    "# activations = activations[0].astype(np.uint8)\n"
   ]
  },
  {
   "cell_type": "code",
   "execution_count": 29,
   "metadata": {},
   "outputs": [
    {
     "data": {
      "image/png": "[encoded data removed]",
      "text/plain": [
       "<Figure size 288x288 with 1 Axes>"
      ]
     },
     "metadata": {
      "needs_background": "light"
     },
     "output_type": "display_data"
    }
   ],
   "source": [
    "filter_number = 9\n",
    "#Render\n",
    "f, ax = plt.subplots(figsize=(4, 4))\n",
    "ax.imshow(activations[filter_number][0])\n",
    "ax.set_title('filter[{:03d}]'.format(filter_number), fontsize=16)\n",
    "ax.axis('off')\n",
    "plt.tight_layout()\n",
    "plt.show()"
   ]
  },
  {
   "cell_type": "code",
   "execution_count": 27,
   "metadata": {},
   "outputs": [
    {
     "name": "stdout",
     "output_type": "stream",
     "text": [
      "[[[[34 45  0]\n",
      "   [34 44  0]\n",
      "   [32 45  2]\n",
      "   ...\n",
      "   [34 46  0]\n",
      "   [35 42  0]\n",
      "   [33 46  0]]\n",
      "\n",
      "  [[33 44  0]\n",
      "   [35 46  0]\n",
      "   [34 45  0]\n",
      "   ...\n",
      "   [33 44  1]\n",
      "   [32 46  0]\n",
      "   [32 45  0]]\n",
      "\n",
      "  [[33 44  0]\n",
      "   [32 44  0]\n",
      "   [33 45  0]\n",
      "   ...\n",
      "   [34 43  0]\n",
      "   [34 44  0]\n",
      "   [34 43  0]]\n",
      "\n",
      "  ...\n",
      "\n",
      "  [[33 42  1]\n",
      "   [34 45  1]\n",
      "   [36 41  0]\n",
      "   ...\n",
      "   [32 42  0]\n",
      "   [33 42  0]\n",
      "   [31 44  0]]\n",
      "\n",
      "  [[34 45  0]\n",
      "   [36 42  0]\n",
      "   [35 41  0]\n",
      "   ...\n",
      "   [33 44  0]\n",
      "   [32 42  0]\n",
      "   [33 41  0]]\n",
      "\n",
      "  [[36 42  0]\n",
      "   [34 41  0]\n",
      "   [33 42  0]\n",
      "   ...\n",
      "   [31 43  0]\n",
      "   [31 43  0]\n",
      "   [32 43  1]]]]\n"
     ]
    }
   ],
   "source": [
    "print(activations[0])"
   ]
  }
 ],
 "metadata": {
  "interpreter": {
   "hash": "61d954621e7fe161d292da133f3bc2fe0b96b122d86b3622a4127a8e572f09d5"
  },
  "kernelspec": {
   "display_name": "Python 3.7.6 ('base')",
   "language": "python",
   "name": "python3"
  },
  "language_info": {
   "codemirror_mode": {
    "name": "ipython",
    "version": 3
   },
   "file_extension": ".py",
   "mimetype": "text/x-python",
   "name": "python",
   "nbconvert_exporter": "python",
   "pygments_lexer": "ipython3",
   "version": "3.7.6"
  },
  "orig_nbformat": 4
 },
 "nbformat": 4,
 "nbformat_minor": 2
}
